{
 "cells": [
  {
   "cell_type": "code",
   "execution_count": null,
   "id": "7e8ba006",
   "metadata": {},
   "outputs": [],
   "source": [
    "from PIL import Image\n",
    "# Open the TIFF file\n",
    "#provide tiff image path \n",
    "im = Image.open(r\"path\")\n",
    "\n",
    "# Get the number of frames in the TIFF file\n",
    "num_frames = im.n_frames\n",
    "\n",
    "# Create an empty list to store the translated frames\n",
    "translated_frames = []\n",
    "\n",
    "# Iterate through all the frames\n",
    "for i in range(0, num_frames):\n",
    "    # Set the current frame\n",
    "    im.seek(i)\n",
    "\n",
    "    # Translate the frame(x and y should be replaced by translation parameters)\n",
    "    translated_frame = im.transform(im.size, Image.AFFINE, (1, 0, x, 0, 1, y))\n",
    "\n",
    "    # Append the translated frame to the list\n",
    "    translated_frames.append(translated_frame)\n",
    "\n",
    "# Save the translated frames to a single TIFF file\n",
    "translated_frames[0].save(r\"path\", save_all=True, append_images=translated_frames[1:])"
   ]
  }
 ],
 "metadata": {
  "kernelspec": {
   "display_name": "Python 3 (ipykernel)",
   "language": "python",
   "name": "python3"
  },
  "language_info": {
   "codemirror_mode": {
    "name": "ipython",
    "version": 3
   },
   "file_extension": ".py",
   "mimetype": "text/x-python",
   "name": "python",
   "nbconvert_exporter": "python",
   "pygments_lexer": "ipython3",
   "version": "3.9.13"
  }
 },
 "nbformat": 4,
 "nbformat_minor": 5
}
